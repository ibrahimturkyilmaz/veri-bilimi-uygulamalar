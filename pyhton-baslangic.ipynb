{
 "cells": [
  {
   "cell_type": "code",
   "execution_count": 1,
   "id": "02862284-f57d-4560-9813-2f466a53fc4e",
   "metadata": {},
   "outputs": [
    {
     "data": {
      "text/plain": [
       "['THE',\n",
       " 'GOAL',\n",
       " 'IS',\n",
       " 'TO',\n",
       " 'TURN',\n",
       " 'DATA',\n",
       " 'INTO',\n",
       " 'INFORMATION',\n",
       " 'AND',\n",
       " 'INFORMATION',\n",
       " 'INTO',\n",
       " 'INSIGHT']"
      ]
     },
     "execution_count": 1,
     "metadata": {},
     "output_type": "execute_result"
    }
   ],
   "source": [
    "# GÖREV 2: Verilen string ifadenin tüm harflerini büyük harfe çeviriniz. Virgül ve nokta yerine space koyunuz, kelime kelime ayırınız.\n",
    "###############################################\n",
    "\n",
    "text = \"The goal is to turn data into information, and information into insight.\"\n",
    "#-------------------------------------------------------#\n",
    "text.upper().replace(\",\",\" \").replace(\".\",\" \").split()\n"
   ]
  },
  {
   "cell_type": "code",
   "execution_count": 3,
   "id": "ef9a7094-c55c-47c3-8c45-ab4d9cfe089e",
   "metadata": {},
   "outputs": [
    {
     "data": {
      "text/plain": [
       "['D', 'A', 'T', 'A', 'S', 'C', 'I', 'E', 'N', 'C', 'E', 101]"
      ]
     },
     "execution_count": 3,
     "metadata": {},
     "output_type": "execute_result"
    }
   ],
   "source": [
    "# GÖREV 3: Verilen liste için aşağıdaki görevleri yapınız.\n",
    "###############################################\n",
    "\n",
    "lst = [\"D\",\"A\",\"T\",\"A\",\"S\",\"C\",\"I\",\"E\",\"N\",\"C\",\"E\"]\n",
    "\n",
    "# Adım 1: Verilen listenin eleman sayısına bakın.\n",
    "len(lst)\n",
    "\n",
    "# Adım 2: Sıfırıncı ve onuncu index'teki elemanları çağırın.\n",
    "lst[0]\n",
    "lst[10]\n",
    "\n",
    "# Adım 3: Verilen liste üzerinden [\"D\",\"A\",\"T\",\"A\"] listesi oluşturun.\n",
    "\n",
    "data_list = lst[0:4]\n",
    "data_list\n",
    "\n",
    "# Adım 4: Sekizinci index'teki elemanı silin.\n",
    "\n",
    "lst.pop(8)\n",
    "lst\n",
    "\n",
    "# Adım 5: Yeni bir eleman ekleyin.\n",
    "\n",
    "lst.append(101)\n",
    "lst\n",
    "\n",
    "\n",
    "# Adım 6: Sekizinci index'e  \"N\" elemanını tekrar ekleyin.\n",
    "\n",
    "lst.insert(8, \"N\")\n",
    "lst\n"
   ]
  },
  {
   "cell_type": "code",
   "execution_count": 5,
   "id": "0774af1d-11f3-447d-8163-af5bf8a61c71",
   "metadata": {},
   "outputs": [
    {
     "data": {
      "text/plain": [
       "{'Christian': ['America', 18],\n",
       " 'Daisy': ['England', 14],\n",
       " 'Dante': ['Italy', 25],\n",
       " 'Ahmet': ['Turkey', 24]}"
      ]
     },
     "execution_count": 5,
     "metadata": {},
     "output_type": "execute_result"
    }
   ],
   "source": [
    "# GÖREV 4: Verilen sözlük yapısına aşağıdaki adımları uygulayınız.\n",
    "###############################################\n",
    "\n",
    "dict = {'Christian': [\"America\",18],\n",
    "        'Daisy':[\"England\",12],\n",
    "        'Antonio':[\"Spain\",22],\n",
    "        'Dante':[\"Italy\",25]}\n",
    "\n",
    "\n",
    "# Adım 1: Key değerlerine erişiniz.\n",
    "\n",
    "dict.keys()\n",
    "\n",
    "# Adım 2: Value'lara erişiniz.\n",
    "\n",
    "dict.values()\n",
    "\n",
    "# Adım 3: Daisy key'ine ait 12 değerini 13 olarak güncelleyiniz.\n",
    "dict.update({\"Daisy\": [\"England\",13]})\n",
    "dict\n",
    "\n",
    "dict[\"Daisy\"][1] = 14\n",
    "dict\n",
    "\n",
    "\n",
    "# Adım 4: Key değeri Ahmet value değeri [Turkey,24] olan yeni bir değer ekleyiniz.\n",
    "\n",
    "dict.update({\"Ahmet\": [\"Turkey\", 24]})\n",
    "dict\n",
    "\n",
    "# Adım 5: Antonio'yu dictionary'den siliniz.\n",
    "\n",
    "dict.pop(\"Antonio\")\n",
    "dict"
   ]
  },
  {
   "cell_type": "code",
   "execution_count": 11,
   "id": "e352bbbf-3ed3-4d02-9ef9-874cd58606f4",
   "metadata": {},
   "outputs": [],
   "source": [
    "# GÖREV 5: Arguman olarak bir liste alan, listenin içerisindeki tek ve çift sayıları ayrı listelere atıyan ve bu listeleri return eden fonskiyon yazınız.\n",
    "###############################################\n",
    "\n",
    "l = [2,13,18,93,22]\n",
    "\n",
    "def func(list):\n",
    "\n",
    "    çift_list = []\n",
    "    tek_list = []\n",
    "\n",
    "    for i in list:\n",
    "        if i % 2 == 0:\n",
    "            çift_list.append(i)\n",
    "        else:\n",
    "            tek_list.append(i)\n",
    "\n",
    "    return çift_list, tek_list\n",
    "\n",
    "\n",
    "çift,tek = func(l)"
   ]
  },
  {
   "cell_type": "code",
   "execution_count": 9,
   "id": "51486df3-6ae3-4649-afb6-2fe7d6899822",
   "metadata": {},
   "outputs": [
    {
     "name": "stdout",
     "output_type": "stream",
     "text": [
      "Mühendislik Fakültesi 1 . öğrenci:  Ali\n",
      "Mühendislik Fakültesi 2 . öğrenci:  Veli\n",
      "Mühendislik Fakültesi 3 . öğrenci:  Ayşe\n",
      "Tıp Fakültesi 1 . öğrenci:  Talat\n",
      "Tıp Fakültesi 2 . öğrenci:  Zeynep\n",
      "Tıp Fakültesi 3 . öğrenci:  Ece\n"
     ]
    }
   ],
   "source": [
    "# GÖREV 6: Aşağıda verilen listede mühendislik ve tıp fakülterinde dereceye giren öğrencilerin isimleri bulunmaktadır.\n",
    "# Sırasıyla ilk üç öğrenci mühendislik fakültesinin başarı sırasını temsil ederken son üç öğrenci de tıp fakültesi öğrenci sırasına aittir.\n",
    "# Enumarate kullanarak öğrenci derecelerini fakülte özelinde yazdırınız.\n",
    "###############################################\n",
    "\n",
    "ogrenciler = [\"Ali\",\"Veli\",\"Ayşe\",\"Talat\",\"Zeynep\",\"Ece\"]\n",
    "for i,x in enumerate(ogrenciler):\n",
    "    if i<3:\n",
    "        i += 1\n",
    "        print(\"Mühendislik Fakültesi\",i,\". öğrenci: \",x)\n",
    "    else:\n",
    "        i -= 2\n",
    "        print(\"Tıp Fakültesi\",i,\". öğrenci: \",x)"
   ]
  },
  {
   "cell_type": "code",
   "execution_count": null,
   "id": "43b154a9-7720-4a87-a6b1-ce1231de282b",
   "metadata": {},
   "outputs": [],
   "source": []
  }
 ],
 "metadata": {
  "kernelspec": {
   "display_name": "anaconda-panel-2023.05-py310",
   "language": "python",
   "name": "conda-env-anaconda-panel-2023.05-py310-py"
  },
  "language_info": {
   "codemirror_mode": {
    "name": "ipython",
    "version": 3
   },
   "file_extension": ".py",
   "mimetype": "text/x-python",
   "name": "python",
   "nbconvert_exporter": "python",
   "pygments_lexer": "ipython3",
   "version": "3.11.5"
  }
 },
 "nbformat": 4,
 "nbformat_minor": 5
}
